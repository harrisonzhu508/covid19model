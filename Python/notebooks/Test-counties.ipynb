{
 "cells": [
  {
   "cell_type": "code",
   "execution_count": 30,
   "metadata": {},
   "outputs": [],
   "source": [
    "import sys\n",
    "sys.path.append(\"..\")"
   ]
  },
  {
   "cell_type": "code",
   "execution_count": 31,
   "metadata": {},
   "outputs": [
    {
     "name": "stdout",
     "output_type": "stream",
     "text": [
      "The autoreload extension is already loaded. To reload it, use:\n",
      "  %reload_ext autoreload\n"
     ]
    }
   ],
   "source": [
    "%load_ext autoreload\n",
    "%autoreload 2"
   ]
  },
  {
   "cell_type": "code",
   "execution_count": 41,
   "metadata": {},
   "outputs": [],
   "source": [
    "from src.dataset_highresolution import HierarchicalCountyDataset\n",
    "import pandas as pd"
   ]
  },
  {
   "cell_type": "code",
   "execution_count": 48,
   "metadata": {},
   "outputs": [
    {
     "name": "stderr",
     "output_type": "stream",
     "text": [
      "../src/dataset_highresolution.py:126: SettingWithCopyWarning: \n",
      "A value is trying to be set on a copy of a slice from a DataFrame\n",
      "\n",
      "See the caveats in the documentation: https://pandas.pydata.org/pandas-docs/stable/user_guide/indexing.html#returning-a-view-versus-a-copy\n",
      "  interventions[intervention_name][ind] = interventions[\"lockdown\"][ind].copy(0)\n"
     ]
    }
   ],
   "source": [
    "dataset = HierarchicalCountyDataset(config_dir=\"../../config/catalog.yml\",\n",
    "        cases_dir=\"../../data/COVID-19-up-to-date.csv\",\n",
    "        medical_data_dir=\"../../data/Italy/regional_medical_data_processed.csv\",\n",
    "        ifr_dir=\"../../data/weighted_fatality.csv\",\n",
    "        serial_interval_dir=\"../../data/serial_interval.csv\",\n",
    "        interventions_dir=\"../../data/interventions.csv\",\n",
    "        mobility_dir=\"../../data/Italy/google_mobility_covariates_processed.csv\")"
   ]
  },
  {
   "cell_type": "code",
   "execution_count": 49,
   "metadata": {},
   "outputs": [
    {
     "data": {
      "text/html": [
       "<div>\n",
       "<style scoped>\n",
       "    .dataframe tbody tr th:only-of-type {\n",
       "        vertical-align: middle;\n",
       "    }\n",
       "\n",
       "    .dataframe tbody tr th {\n",
       "        vertical-align: top;\n",
       "    }\n",
       "\n",
       "    .dataframe thead th {\n",
       "        text-align: right;\n",
       "    }\n",
       "</style>\n",
       "<table border=\"1\" class=\"dataframe\">\n",
       "  <thead>\n",
       "    <tr style=\"text-align: right;\">\n",
       "      <th></th>\n",
       "      <th>Country</th>\n",
       "      <th>schools_universities</th>\n",
       "      <th>travel_restrictions</th>\n",
       "      <th>public_events</th>\n",
       "      <th>sport</th>\n",
       "      <th>lockdown</th>\n",
       "      <th>social_distancing_encouraged</th>\n",
       "    </tr>\n",
       "  </thead>\n",
       "  <tbody>\n",
       "    <tr>\n",
       "      <th>5</th>\n",
       "      <td>Italy</td>\n",
       "      <td>2020-03-05</td>\n",
       "      <td>2020-03-09</td>\n",
       "      <td>2020-03-09</td>\n",
       "      <td>2020-03-09</td>\n",
       "      <td>2020-03-11</td>\n",
       "      <td>2020-03-09</td>\n",
       "    </tr>\n",
       "  </tbody>\n",
       "</table>\n",
       "</div>"
      ],
      "text/plain": [
       "  Country schools_universities travel_restrictions public_events      sport  \\\n",
       "5   Italy           2020-03-05          2020-03-09    2020-03-09 2020-03-09   \n",
       "\n",
       "    lockdown social_distancing_encouraged  \n",
       "5 2020-03-11                   2020-03-09  "
      ]
     },
     "execution_count": 49,
     "metadata": {},
     "output_type": "execute_result"
    }
   ],
   "source": [
    "dataset.interventions"
   ]
  },
  {
   "cell_type": "code",
   "execution_count": 50,
   "metadata": {},
   "outputs": [
    {
     "data": {
      "text/html": [
       "<div>\n",
       "<style scoped>\n",
       "    .dataframe tbody tr th:only-of-type {\n",
       "        vertical-align: middle;\n",
       "    }\n",
       "\n",
       "    .dataframe tbody tr th {\n",
       "        vertical-align: top;\n",
       "    }\n",
       "\n",
       "    .dataframe thead th {\n",
       "        text-align: right;\n",
       "    }\n",
       "</style>\n",
       "<table border=\"1\" class=\"dataframe\">\n",
       "  <thead>\n",
       "    <tr style=\"text-align: right;\">\n",
       "      <th></th>\n",
       "      <th>state</th>\n",
       "      <th>county</th>\n",
       "      <th>denominazione_regione</th>\n",
       "      <th>google_county</th>\n",
       "      <th>date</th>\n",
       "      <th>grocery/pharmacy</th>\n",
       "      <th>parks</th>\n",
       "      <th>residential</th>\n",
       "      <th>retail/recreation</th>\n",
       "      <th>transitstations</th>\n",
       "      <th>workplace</th>\n",
       "    </tr>\n",
       "  </thead>\n",
       "  <tbody>\n",
       "    <tr>\n",
       "      <th>0</th>\n",
       "      <td>IT</td>\n",
       "      <td>Abruzzo</td>\n",
       "      <td>Abruzzo</td>\n",
       "      <td>Abruzzo</td>\n",
       "      <td>2019-12-16</td>\n",
       "      <td>0.000</td>\n",
       "      <td>0.000</td>\n",
       "      <td>0.000</td>\n",
       "      <td>0.000</td>\n",
       "      <td>0.000</td>\n",
       "      <td>0.000</td>\n",
       "    </tr>\n",
       "    <tr>\n",
       "      <th>654</th>\n",
       "      <td>IT</td>\n",
       "      <td>Campania</td>\n",
       "      <td>Campania</td>\n",
       "      <td>Campania</td>\n",
       "      <td>2019-12-16</td>\n",
       "      <td>0.000</td>\n",
       "      <td>0.000</td>\n",
       "      <td>0.000</td>\n",
       "      <td>0.000</td>\n",
       "      <td>0.000</td>\n",
       "      <td>0.000</td>\n",
       "    </tr>\n",
       "    <tr>\n",
       "      <th>1090</th>\n",
       "      <td>IT</td>\n",
       "      <td>Liguria</td>\n",
       "      <td>Liguria</td>\n",
       "      <td>Liguria</td>\n",
       "      <td>2019-12-16</td>\n",
       "      <td>0.000</td>\n",
       "      <td>0.000</td>\n",
       "      <td>0.000</td>\n",
       "      <td>0.000</td>\n",
       "      <td>0.000</td>\n",
       "      <td>0.000</td>\n",
       "    </tr>\n",
       "    <tr>\n",
       "      <th>1199</th>\n",
       "      <td>IT</td>\n",
       "      <td>Lombardy</td>\n",
       "      <td>Lombardia</td>\n",
       "      <td>Lombardy</td>\n",
       "      <td>2019-12-16</td>\n",
       "      <td>0.000</td>\n",
       "      <td>0.000</td>\n",
       "      <td>0.000</td>\n",
       "      <td>0.000</td>\n",
       "      <td>0.000</td>\n",
       "      <td>0.000</td>\n",
       "    </tr>\n",
       "    <tr>\n",
       "      <th>436</th>\n",
       "      <td>IT</td>\n",
       "      <td>Bolzano</td>\n",
       "      <td>P.A. Bolzano</td>\n",
       "      <td>Trentino-South Tyrol</td>\n",
       "      <td>2019-12-16</td>\n",
       "      <td>0.000</td>\n",
       "      <td>0.000</td>\n",
       "      <td>0.000</td>\n",
       "      <td>0.000</td>\n",
       "      <td>0.000</td>\n",
       "      <td>0.000</td>\n",
       "    </tr>\n",
       "    <tr>\n",
       "      <th>...</th>\n",
       "      <td>...</td>\n",
       "      <td>...</td>\n",
       "      <td>...</td>\n",
       "      <td>...</td>\n",
       "      <td>...</td>\n",
       "      <td>...</td>\n",
       "      <td>...</td>\n",
       "      <td>...</td>\n",
       "      <td>...</td>\n",
       "      <td>...</td>\n",
       "      <td>...</td>\n",
       "    </tr>\n",
       "    <tr>\n",
       "      <th>1307</th>\n",
       "      <td>IT</td>\n",
       "      <td>Lombardy</td>\n",
       "      <td>Lombardia</td>\n",
       "      <td>Lombardy</td>\n",
       "      <td>2020-04-08</td>\n",
       "      <td>-52.169</td>\n",
       "      <td>-85.671</td>\n",
       "      <td>38.982</td>\n",
       "      <td>-89.478</td>\n",
       "      <td>-89.491</td>\n",
       "      <td>-78.327</td>\n",
       "    </tr>\n",
       "    <tr>\n",
       "      <th>1852</th>\n",
       "      <td>IT</td>\n",
       "      <td>Sardinia</td>\n",
       "      <td>Sardegna</td>\n",
       "      <td>Sardinia</td>\n",
       "      <td>2020-04-08</td>\n",
       "      <td>-52.302</td>\n",
       "      <td>-77.542</td>\n",
       "      <td>27.762</td>\n",
       "      <td>-83.707</td>\n",
       "      <td>-77.193</td>\n",
       "      <td>-65.004</td>\n",
       "    </tr>\n",
       "    <tr>\n",
       "      <th>544</th>\n",
       "      <td>IT</td>\n",
       "      <td>Bolzano</td>\n",
       "      <td>P.A. Bolzano</td>\n",
       "      <td>Trentino-South Tyrol</td>\n",
       "      <td>2020-04-08</td>\n",
       "      <td>-58.328</td>\n",
       "      <td>-91.146</td>\n",
       "      <td>35.169</td>\n",
       "      <td>-91.338</td>\n",
       "      <td>-82.883</td>\n",
       "      <td>-71.585</td>\n",
       "    </tr>\n",
       "    <tr>\n",
       "      <th>1089</th>\n",
       "      <td>IT</td>\n",
       "      <td>Lazio</td>\n",
       "      <td>Lazio</td>\n",
       "      <td>Lazio</td>\n",
       "      <td>2020-04-08</td>\n",
       "      <td>-52.262</td>\n",
       "      <td>-87.737</td>\n",
       "      <td>36.174</td>\n",
       "      <td>-86.000</td>\n",
       "      <td>-87.460</td>\n",
       "      <td>-75.670</td>\n",
       "    </tr>\n",
       "    <tr>\n",
       "      <th>2397</th>\n",
       "      <td>IT</td>\n",
       "      <td>Veneto</td>\n",
       "      <td>Veneto</td>\n",
       "      <td>Veneto</td>\n",
       "      <td>2020-04-08</td>\n",
       "      <td>-45.159</td>\n",
       "      <td>-85.382</td>\n",
       "      <td>34.701</td>\n",
       "      <td>-86.119</td>\n",
       "      <td>-84.242</td>\n",
       "      <td>-67.484</td>\n",
       "    </tr>\n",
       "  </tbody>\n",
       "</table>\n",
       "<p>2289 rows × 11 columns</p>\n",
       "</div>"
      ],
      "text/plain": [
       "     state    county denominazione_regione         google_county       date  \\\n",
       "0       IT   Abruzzo               Abruzzo               Abruzzo 2019-12-16   \n",
       "654     IT  Campania              Campania              Campania 2019-12-16   \n",
       "1090    IT   Liguria               Liguria               Liguria 2019-12-16   \n",
       "1199    IT  Lombardy             Lombardia              Lombardy 2019-12-16   \n",
       "436     IT   Bolzano          P.A. Bolzano  Trentino-South Tyrol 2019-12-16   \n",
       "...    ...       ...                   ...                   ...        ...   \n",
       "1307    IT  Lombardy             Lombardia              Lombardy 2020-04-08   \n",
       "1852    IT  Sardinia              Sardegna              Sardinia 2020-04-08   \n",
       "544     IT   Bolzano          P.A. Bolzano  Trentino-South Tyrol 2020-04-08   \n",
       "1089    IT     Lazio                 Lazio                 Lazio 2020-04-08   \n",
       "2397    IT    Veneto                Veneto                Veneto 2020-04-08   \n",
       "\n",
       "      grocery/pharmacy   parks  residential  retail/recreation  \\\n",
       "0                0.000   0.000        0.000              0.000   \n",
       "654              0.000   0.000        0.000              0.000   \n",
       "1090             0.000   0.000        0.000              0.000   \n",
       "1199             0.000   0.000        0.000              0.000   \n",
       "436              0.000   0.000        0.000              0.000   \n",
       "...                ...     ...          ...                ...   \n",
       "1307           -52.169 -85.671       38.982            -89.478   \n",
       "1852           -52.302 -77.542       27.762            -83.707   \n",
       "544            -58.328 -91.146       35.169            -91.338   \n",
       "1089           -52.262 -87.737       36.174            -86.000   \n",
       "2397           -45.159 -85.382       34.701            -86.119   \n",
       "\n",
       "      transitstations  workplace  \n",
       "0               0.000      0.000  \n",
       "654             0.000      0.000  \n",
       "1090            0.000      0.000  \n",
       "1199            0.000      0.000  \n",
       "436             0.000      0.000  \n",
       "...               ...        ...  \n",
       "1307          -89.491    -78.327  \n",
       "1852          -77.193    -65.004  \n",
       "544           -82.883    -71.585  \n",
       "1089          -87.460    -75.670  \n",
       "2397          -84.242    -67.484  \n",
       "\n",
       "[2289 rows x 11 columns]"
      ]
     },
     "execution_count": 50,
     "metadata": {},
     "output_type": "execute_result"
    }
   ],
   "source": [
    "dataset.covariates"
   ]
  },
  {
   "cell_type": "code",
   "execution_count": 57,
   "metadata": {},
   "outputs": [
    {
     "data": {
      "text/html": [
       "<div>\n",
       "<style scoped>\n",
       "    .dataframe tbody tr th:only-of-type {\n",
       "        vertical-align: middle;\n",
       "    }\n",
       "\n",
       "    .dataframe tbody tr th {\n",
       "        vertical-align: top;\n",
       "    }\n",
       "\n",
       "    .dataframe thead th {\n",
       "        text-align: right;\n",
       "    }\n",
       "</style>\n",
       "<table border=\"1\" class=\"dataframe\">\n",
       "  <thead>\n",
       "    <tr style=\"text-align: right;\">\n",
       "      <th></th>\n",
       "      <th>Unnamed: 0</th>\n",
       "      <th>Region, subregion, country or area *</th>\n",
       "      <th>0-9</th>\n",
       "      <th>Oct-19</th>\n",
       "      <th>20-29</th>\n",
       "      <th>30-39</th>\n",
       "      <th>40-49</th>\n",
       "      <th>50-59</th>\n",
       "      <th>60-69</th>\n",
       "      <th>70-79</th>\n",
       "      <th>80+</th>\n",
       "      <th>weighted_fatality</th>\n",
       "      <th>population</th>\n",
       "    </tr>\n",
       "  </thead>\n",
       "  <tbody>\n",
       "    <tr>\n",
       "      <th>0</th>\n",
       "      <td>3345</td>\n",
       "      <td>Denmark</td>\n",
       "      <td>606.029</td>\n",
       "      <td>675.948</td>\n",
       "      <td>775.962</td>\n",
       "      <td>672.290</td>\n",
       "      <td>738.207</td>\n",
       "      <td>810.126</td>\n",
       "      <td>654.530</td>\n",
       "      <td>586.138</td>\n",
       "      <td>272.973</td>\n",
       "      <td>0.008792</td>\n",
       "      <td>5792.203</td>\n",
       "    </tr>\n",
       "    <tr>\n",
       "      <th>1</th>\n",
       "      <td>3450</td>\n",
       "      <td>Norway</td>\n",
       "      <td>614.323</td>\n",
       "      <td>643.031</td>\n",
       "      <td>726.383</td>\n",
       "      <td>738.724</td>\n",
       "      <td>724.930</td>\n",
       "      <td>712.508</td>\n",
       "      <td>586.156</td>\n",
       "      <td>446.448</td>\n",
       "      <td>228.739</td>\n",
       "      <td>0.007924</td>\n",
       "      <td>5421.242</td>\n",
       "    </tr>\n",
       "    <tr>\n",
       "      <th>2</th>\n",
       "      <td>3465</td>\n",
       "      <td>Sweden</td>\n",
       "      <td>1193.951</td>\n",
       "      <td>1127.127</td>\n",
       "      <td>1276.930</td>\n",
       "      <td>1320.299</td>\n",
       "      <td>1264.123</td>\n",
       "      <td>1296.647</td>\n",
       "      <td>1093.868</td>\n",
       "      <td>994.244</td>\n",
       "      <td>532.081</td>\n",
       "      <td>0.008856</td>\n",
       "      <td>10099.270</td>\n",
       "    </tr>\n",
       "    <tr>\n",
       "      <th>3</th>\n",
       "      <td>3480</td>\n",
       "      <td>United Kingdom</td>\n",
       "      <td>8044.056</td>\n",
       "      <td>7642.473</td>\n",
       "      <td>8558.707</td>\n",
       "      <td>9295.024</td>\n",
       "      <td>8604.251</td>\n",
       "      <td>9173.465</td>\n",
       "      <td>7286.777</td>\n",
       "      <td>5830.635</td>\n",
       "      <td>3450.616</td>\n",
       "      <td>0.009185</td>\n",
       "      <td>67886.004</td>\n",
       "    </tr>\n",
       "    <tr>\n",
       "      <th>4</th>\n",
       "      <td>3570</td>\n",
       "      <td>Italy</td>\n",
       "      <td>4994.995</td>\n",
       "      <td>5733.448</td>\n",
       "      <td>6103.436</td>\n",
       "      <td>6998.434</td>\n",
       "      <td>9022.004</td>\n",
       "      <td>9567.192</td>\n",
       "      <td>7484.862</td>\n",
       "      <td>6028.908</td>\n",
       "      <td>4528.549</td>\n",
       "      <td>0.010893</td>\n",
       "      <td>60461.828</td>\n",
       "    </tr>\n",
       "    <tr>\n",
       "      <th>5</th>\n",
       "      <td>3675</td>\n",
       "      <td>Spain</td>\n",
       "      <td>4234.487</td>\n",
       "      <td>4736.077</td>\n",
       "      <td>4617.599</td>\n",
       "      <td>5901.993</td>\n",
       "      <td>7938.499</td>\n",
       "      <td>7046.327</td>\n",
       "      <td>5340.654</td>\n",
       "      <td>4015.306</td>\n",
       "      <td>2923.841</td>\n",
       "      <td>0.009262</td>\n",
       "      <td>46754.783</td>\n",
       "    </tr>\n",
       "    <tr>\n",
       "      <th>6</th>\n",
       "      <td>3705</td>\n",
       "      <td>Austria</td>\n",
       "      <td>874.182</td>\n",
       "      <td>876.208</td>\n",
       "      <td>1115.377</td>\n",
       "      <td>1243.416</td>\n",
       "      <td>1178.265</td>\n",
       "      <td>1407.000</td>\n",
       "      <td>1033.320</td>\n",
       "      <td>790.437</td>\n",
       "      <td>488.195</td>\n",
       "      <td>0.008967</td>\n",
       "      <td>9006.400</td>\n",
       "    </tr>\n",
       "    <tr>\n",
       "      <th>7</th>\n",
       "      <td>3720</td>\n",
       "      <td>Belgium</td>\n",
       "      <td>1302.703</td>\n",
       "      <td>1312.251</td>\n",
       "      <td>1386.085</td>\n",
       "      <td>1503.997</td>\n",
       "      <td>1518.439</td>\n",
       "      <td>1598.741</td>\n",
       "      <td>1369.876</td>\n",
       "      <td>939.413</td>\n",
       "      <td>658.111</td>\n",
       "      <td>0.009818</td>\n",
       "      <td>11589.616</td>\n",
       "    </tr>\n",
       "    <tr>\n",
       "      <th>8</th>\n",
       "      <td>3735</td>\n",
       "      <td>France</td>\n",
       "      <td>7527.474</td>\n",
       "      <td>7883.477</td>\n",
       "      <td>7371.029</td>\n",
       "      <td>8011.050</td>\n",
       "      <td>8325.667</td>\n",
       "      <td>8635.057</td>\n",
       "      <td>7764.786</td>\n",
       "      <td>5727.704</td>\n",
       "      <td>4027.268</td>\n",
       "      <td>0.011526</td>\n",
       "      <td>65273.512</td>\n",
       "    </tr>\n",
       "    <tr>\n",
       "      <th>9</th>\n",
       "      <td>3750</td>\n",
       "      <td>Germany</td>\n",
       "      <td>7880.904</td>\n",
       "      <td>7930.616</td>\n",
       "      <td>9377.361</td>\n",
       "      <td>10872.020</td>\n",
       "      <td>10243.351</td>\n",
       "      <td>13488.393</td>\n",
       "      <td>10644.142</td>\n",
       "      <td>7471.414</td>\n",
       "      <td>5875.744</td>\n",
       "      <td>0.010928</td>\n",
       "      <td>83783.945</td>\n",
       "    </tr>\n",
       "    <tr>\n",
       "      <th>10</th>\n",
       "      <td>3795</td>\n",
       "      <td>Switzerland</td>\n",
       "      <td>884.945</td>\n",
       "      <td>834.867</td>\n",
       "      <td>1039.729</td>\n",
       "      <td>1219.224</td>\n",
       "      <td>1166.588</td>\n",
       "      <td>1320.622</td>\n",
       "      <td>977.435</td>\n",
       "      <td>751.993</td>\n",
       "      <td>459.215</td>\n",
       "      <td>0.008815</td>\n",
       "      <td>8654.618</td>\n",
       "    </tr>\n",
       "  </tbody>\n",
       "</table>\n",
       "</div>"
      ],
      "text/plain": [
       "    Unnamed: 0 Region, subregion, country or area *       0-9    Oct-19  \\\n",
       "0         3345                              Denmark   606.029   675.948   \n",
       "1         3450                               Norway   614.323   643.031   \n",
       "2         3465                               Sweden  1193.951  1127.127   \n",
       "3         3480                       United Kingdom  8044.056  7642.473   \n",
       "4         3570                                Italy  4994.995  5733.448   \n",
       "5         3675                                Spain  4234.487  4736.077   \n",
       "6         3705                              Austria   874.182   876.208   \n",
       "7         3720                              Belgium  1302.703  1312.251   \n",
       "8         3735                               France  7527.474  7883.477   \n",
       "9         3750                              Germany  7880.904  7930.616   \n",
       "10        3795                          Switzerland   884.945   834.867   \n",
       "\n",
       "       20-29      30-39      40-49      50-59      60-69     70-79       80+  \\\n",
       "0    775.962    672.290    738.207    810.126    654.530   586.138   272.973   \n",
       "1    726.383    738.724    724.930    712.508    586.156   446.448   228.739   \n",
       "2   1276.930   1320.299   1264.123   1296.647   1093.868   994.244   532.081   \n",
       "3   8558.707   9295.024   8604.251   9173.465   7286.777  5830.635  3450.616   \n",
       "4   6103.436   6998.434   9022.004   9567.192   7484.862  6028.908  4528.549   \n",
       "5   4617.599   5901.993   7938.499   7046.327   5340.654  4015.306  2923.841   \n",
       "6   1115.377   1243.416   1178.265   1407.000   1033.320   790.437   488.195   \n",
       "7   1386.085   1503.997   1518.439   1598.741   1369.876   939.413   658.111   \n",
       "8   7371.029   8011.050   8325.667   8635.057   7764.786  5727.704  4027.268   \n",
       "9   9377.361  10872.020  10243.351  13488.393  10644.142  7471.414  5875.744   \n",
       "10  1039.729   1219.224   1166.588   1320.622    977.435   751.993   459.215   \n",
       "\n",
       "    weighted_fatality  population  \n",
       "0            0.008792    5792.203  \n",
       "1            0.007924    5421.242  \n",
       "2            0.008856   10099.270  \n",
       "3            0.009185   67886.004  \n",
       "4            0.010893   60461.828  \n",
       "5            0.009262   46754.783  \n",
       "6            0.008967    9006.400  \n",
       "7            0.009818   11589.616  \n",
       "8            0.011526   65273.512  \n",
       "9            0.010928   83783.945  \n",
       "10           0.008815    8654.618  "
      ]
     },
     "execution_count": 57,
     "metadata": {},
     "output_type": "execute_result"
    }
   ],
   "source": [
    "dataset.ifr"
   ]
  },
  {
   "cell_type": "code",
   "execution_count": 52,
   "metadata": {
    "scrolled": true
   },
   "outputs": [
    {
     "data": {
      "text/html": [
       "<div>\n",
       "<style scoped>\n",
       "    .dataframe tbody tr th:only-of-type {\n",
       "        vertical-align: middle;\n",
       "    }\n",
       "\n",
       "    .dataframe tbody tr th {\n",
       "        vertical-align: top;\n",
       "    }\n",
       "\n",
       "    .dataframe thead th {\n",
       "        text-align: right;\n",
       "    }\n",
       "</style>\n",
       "<table border=\"1\" class=\"dataframe\">\n",
       "  <thead>\n",
       "    <tr style=\"text-align: right;\">\n",
       "      <th></th>\n",
       "      <th>date</th>\n",
       "      <th>county</th>\n",
       "      <th>cases</th>\n",
       "      <th>deaths</th>\n",
       "    </tr>\n",
       "  </thead>\n",
       "  <tbody>\n",
       "    <tr>\n",
       "      <th>0</th>\n",
       "      <td>2020-01-24</td>\n",
       "      <td>Abruzzo</td>\n",
       "      <td>0.0</td>\n",
       "      <td>0.0</td>\n",
       "    </tr>\n",
       "    <tr>\n",
       "      <th>1</th>\n",
       "      <td>2020-01-25</td>\n",
       "      <td>Abruzzo</td>\n",
       "      <td>0.0</td>\n",
       "      <td>0.0</td>\n",
       "    </tr>\n",
       "    <tr>\n",
       "      <th>2</th>\n",
       "      <td>2020-01-26</td>\n",
       "      <td>Abruzzo</td>\n",
       "      <td>0.0</td>\n",
       "      <td>0.0</td>\n",
       "    </tr>\n",
       "    <tr>\n",
       "      <th>3</th>\n",
       "      <td>2020-01-27</td>\n",
       "      <td>Abruzzo</td>\n",
       "      <td>0.0</td>\n",
       "      <td>0.0</td>\n",
       "    </tr>\n",
       "    <tr>\n",
       "      <th>4</th>\n",
       "      <td>2020-01-28</td>\n",
       "      <td>Abruzzo</td>\n",
       "      <td>0.0</td>\n",
       "      <td>0.0</td>\n",
       "    </tr>\n",
       "    <tr>\n",
       "      <th>...</th>\n",
       "      <td>...</td>\n",
       "      <td>...</td>\n",
       "      <td>...</td>\n",
       "      <td>...</td>\n",
       "    </tr>\n",
       "    <tr>\n",
       "      <th>1612</th>\n",
       "      <td>2020-04-05</td>\n",
       "      <td>Veneto</td>\n",
       "      <td>402.0</td>\n",
       "      <td>24.0</td>\n",
       "    </tr>\n",
       "    <tr>\n",
       "      <th>1613</th>\n",
       "      <td>2020-04-06</td>\n",
       "      <td>Veneto</td>\n",
       "      <td>362.0</td>\n",
       "      <td>31.0</td>\n",
       "    </tr>\n",
       "    <tr>\n",
       "      <th>1614</th>\n",
       "      <td>2020-04-07</td>\n",
       "      <td>Veneto</td>\n",
       "      <td>337.0</td>\n",
       "      <td>33.0</td>\n",
       "    </tr>\n",
       "    <tr>\n",
       "      <th>1615</th>\n",
       "      <td>2020-04-08</td>\n",
       "      <td>Veneto</td>\n",
       "      <td>485.0</td>\n",
       "      <td>41.0</td>\n",
       "    </tr>\n",
       "    <tr>\n",
       "      <th>1616</th>\n",
       "      <td>2020-04-09</td>\n",
       "      <td>Veneto</td>\n",
       "      <td>523.0</td>\n",
       "      <td>20.0</td>\n",
       "    </tr>\n",
       "  </tbody>\n",
       "</table>\n",
       "<p>1617 rows × 4 columns</p>\n",
       "</div>"
      ],
      "text/plain": [
       "           date   county  cases  deaths\n",
       "0    2020-01-24  Abruzzo    0.0     0.0\n",
       "1    2020-01-25  Abruzzo    0.0     0.0\n",
       "2    2020-01-26  Abruzzo    0.0     0.0\n",
       "3    2020-01-27  Abruzzo    0.0     0.0\n",
       "4    2020-01-28  Abruzzo    0.0     0.0\n",
       "...         ...      ...    ...     ...\n",
       "1612 2020-04-05   Veneto  402.0    24.0\n",
       "1613 2020-04-06   Veneto  362.0    31.0\n",
       "1614 2020-04-07   Veneto  337.0    33.0\n",
       "1615 2020-04-08   Veneto  485.0    41.0\n",
       "1616 2020-04-09   Veneto  523.0    20.0\n",
       "\n",
       "[1617 rows x 4 columns]"
      ]
     },
     "execution_count": 52,
     "metadata": {},
     "output_type": "execute_result"
    }
   ],
   "source": [
    "dataset.cases"
   ]
  },
  {
   "cell_type": "code",
   "execution_count": 55,
   "metadata": {
    "scrolled": true
   },
   "outputs": [
    {
     "name": "stderr",
     "output_type": "stream",
     "text": [
      "0it [00:00, ?it/s]../src/dataset_highresolution.py:179: SettingWithCopyWarning: \n",
      "A value is trying to be set on a copy of a slice from a DataFrame.\n",
      "Try using .loc[row_indexer,col_indexer] = value instead\n",
      "\n",
      "See the caveats in the documentation: https://pandas.pydata.org/pandas-docs/stable/user_guide/indexing.html#returning-a-view-versus-a-copy\n",
      "  cases[\"date\"] = cases[\"date\"].apply(pd.to_datetime, format=\"%d-%m-%Y\")\n",
      "../src/dataset_highresolution.py:183: SettingWithCopyWarning: \n",
      "A value is trying to be set on a copy of a slice from a DataFrame.\n",
      "Try using .loc[row_indexer,col_indexer] = value instead\n",
      "\n",
      "See the caveats in the documentation: https://pandas.pydata.org/pandas-docs/stable/user_guide/indexing.html#returning-a-view-versus-a-copy\n",
      "  cases[\"t\"] = cases[\"date\"].apply(lambda v: dt_to_dec(v))\n",
      "../src/dataset_highresolution.py:187: SettingWithCopyWarning: \n",
      "A value is trying to be set on a copy of a slice from a DataFrame.\n",
      "Try using .loc[row_indexer,col_indexer] = value instead\n",
      "\n",
      "See the caveats in the documentation: https://pandas.pydata.org/pandas-docs/stable/user_guide/indexing.html#returning-a-view-versus-a-copy\n",
      "  covariates[\"t\"] = covariates[\"date\"].apply(lambda v: dt_to_dec(v))\n"
     ]
    },
    {
     "name": "stdout",
     "output_type": "stream",
     "text": [
      "First non-zero cases is on day 34, and 30 days before 5 days is day 25\n",
      "Abruzzo has 52 days of death data\n",
      "Abruzzo has 45 days of mobility data\n"
     ]
    },
    {
     "name": "stderr",
     "output_type": "stream",
     "text": [
      "\r",
      "1it [00:01,  1.38s/it]"
     ]
    },
    {
     "name": "stdout",
     "output_type": "stream",
     "text": [
      "First non-zero cases is on day 41, and 30 days before 5 days is day 29\n",
      "Aosta has 48 days of death data\n",
      "Aosta has 41 days of mobility data\n"
     ]
    },
    {
     "name": "stderr",
     "output_type": "stream",
     "text": [
      "\r",
      "2it [00:02,  1.30s/it]"
     ]
    },
    {
     "name": "stdout",
     "output_type": "stream",
     "text": [
      "First non-zero cases is on day 34, and 30 days before 5 days is day 21\n",
      "Apulia has 56 days of death data\n",
      "Apulia has 49 days of mobility data\n"
     ]
    },
    {
     "name": "stderr",
     "output_type": "stream",
     "text": [
      "\r",
      "3it [00:03,  1.25s/it]"
     ]
    },
    {
     "name": "stdout",
     "output_type": "stream",
     "text": [
      "First non-zero cases is on day 39, and 30 days before 5 days is day 39\n",
      "Basilicata has 38 days of death data\n",
      "Basilicata has 31 days of mobility data\n"
     ]
    },
    {
     "name": "stderr",
     "output_type": "stream",
     "text": [
      "\r",
      "4it [00:04,  1.25s/it]"
     ]
    },
    {
     "name": "stdout",
     "output_type": "stream",
     "text": [
      "First non-zero cases is on day 32, and 30 days before 5 days is day 25\n",
      "Bolzano has 52 days of death data\n",
      "Bolzano has 45 days of mobility data\n"
     ]
    },
    {
     "name": "stderr",
     "output_type": "stream",
     "text": [
      "\r",
      "5it [00:06,  1.24s/it]"
     ]
    },
    {
     "name": "stdout",
     "output_type": "stream",
     "text": [
      "First non-zero cases is on day 35, and 30 days before 5 days is day 30\n",
      "Calabria has 47 days of death data\n",
      "Calabria has 40 days of mobility data\n"
     ]
    },
    {
     "name": "stderr",
     "output_type": "stream",
     "text": [
      "\r",
      "6it [00:07,  1.24s/it]"
     ]
    },
    {
     "name": "stdout",
     "output_type": "stream",
     "text": [
      "First non-zero cases is on day 34, and 30 days before 5 days is day 25\n",
      "Campania has 52 days of death data\n",
      "Campania has 45 days of mobility data\n"
     ]
    },
    {
     "name": "stderr",
     "output_type": "stream",
     "text": [
      "\r",
      "7it [00:08,  1.24s/it]"
     ]
    },
    {
     "name": "stdout",
     "output_type": "stream",
     "text": [
      "First non-zero cases is on day 31, and 30 days before 5 days is day 8\n",
      "Emilia-Romagna has 69 days of death data\n",
      "Emilia-Romagna has 62 days of mobility data\n"
     ]
    },
    {
     "name": "stderr",
     "output_type": "stream",
     "text": [
      "\r",
      "8it [00:09,  1.16s/it]"
     ]
    },
    {
     "name": "stdout",
     "output_type": "stream",
     "text": [
      "First non-zero cases is on day 37, and 30 days before 5 days is day 19\n",
      "Friuli-Venezia Giulia has 58 days of death data\n",
      "Friuli-Venezia Giulia has 51 days of mobility data\n"
     ]
    },
    {
     "name": "stderr",
     "output_type": "stream",
     "text": [
      "\r",
      "9it [00:10,  1.10s/it]"
     ]
    },
    {
     "name": "stdout",
     "output_type": "stream",
     "text": [
      "First non-zero cases is on day 31, and 30 days before 5 days is day 19\n",
      "Lazio has 58 days of death data\n",
      "Lazio has 51 days of mobility data\n"
     ]
    },
    {
     "name": "stderr",
     "output_type": "stream",
     "text": [
      "\r",
      "10it [00:11,  1.09s/it]"
     ]
    },
    {
     "name": "stdout",
     "output_type": "stream",
     "text": [
      "First non-zero cases is on day 32, and 30 days before 5 days is day 18\n",
      "Liguria has 59 days of death data\n",
      "Liguria has 52 days of mobility data\n"
     ]
    },
    {
     "name": "stderr",
     "output_type": "stream",
     "text": [
      "\r",
      "11it [00:12,  1.05s/it]"
     ]
    },
    {
     "name": "stdout",
     "output_type": "stream",
     "text": [
      "First non-zero cases is on day 31, and 30 days before 5 days is day 4\n",
      "Lombardy has 73 days of death data\n",
      "Lombardy has 66 days of mobility data\n"
     ]
    },
    {
     "name": "stderr",
     "output_type": "stream",
     "text": [
      "\r",
      "12it [00:13,  1.02s/it]"
     ]
    },
    {
     "name": "stdout",
     "output_type": "stream",
     "text": [
      "First non-zero cases is on day 33, and 30 days before 5 days is day 15\n",
      "Marche has 62 days of death data\n",
      "Marche has 55 days of mobility data\n"
     ]
    },
    {
     "name": "stderr",
     "output_type": "stream",
     "text": [
      "\r",
      "13it [00:14,  1.01it/s]"
     ]
    },
    {
     "name": "stdout",
     "output_type": "stream",
     "text": [
      "First non-zero cases is on day 39, and 30 days before 5 days is day 38\n",
      "Molise has 39 days of death data\n",
      "Molise has 32 days of mobility data\n"
     ]
    },
    {
     "name": "stderr",
     "output_type": "stream",
     "text": [
      "\r",
      "14it [00:15,  1.04s/it]"
     ]
    },
    {
     "name": "stdout",
     "output_type": "stream",
     "text": [
      "First non-zero cases is on day 31, and 30 days before 5 days is day 15\n",
      "Piedmont has 62 days of death data\n",
      "Piedmont has 55 days of mobility data\n"
     ]
    },
    {
     "name": "stderr",
     "output_type": "stream",
     "text": [
      "\r",
      "15it [00:16,  1.05s/it]"
     ]
    },
    {
     "name": "stdout",
     "output_type": "stream",
     "text": [
      "First non-zero cases is on day 39, and 30 days before 5 days is day 29\n",
      "Sardinia has 48 days of death data\n",
      "Sardinia has 41 days of mobility data\n"
     ]
    },
    {
     "name": "stderr",
     "output_type": "stream",
     "text": [
      "\r",
      "16it [00:17,  1.07s/it]"
     ]
    },
    {
     "name": "stdout",
     "output_type": "stream",
     "text": [
      "First non-zero cases is on day 32, and 30 days before 5 days is day 29\n",
      "Sicily has 48 days of death data\n",
      "Sicily has 41 days of mobility data\n"
     ]
    },
    {
     "name": "stderr",
     "output_type": "stream",
     "text": [
      "\r",
      "17it [00:18,  1.05s/it]"
     ]
    },
    {
     "name": "stdout",
     "output_type": "stream",
     "text": [
      "First non-zero cases is on day 39, and 30 days before 5 days is day 25\n",
      "Trento has 52 days of death data\n",
      "Trento has 45 days of mobility data\n"
     ]
    },
    {
     "name": "stderr",
     "output_type": "stream",
     "text": [
      "\r",
      "18it [00:19,  1.04s/it]"
     ]
    },
    {
     "name": "stdout",
     "output_type": "stream",
     "text": [
      "First non-zero cases is on day 32, and 30 days before 5 days is day 22\n",
      "Tuscany has 55 days of death data\n",
      "Tuscany has 48 days of mobility data\n"
     ]
    },
    {
     "name": "stderr",
     "output_type": "stream",
     "text": [
      "\r",
      "19it [00:20,  1.01s/it]"
     ]
    },
    {
     "name": "stdout",
     "output_type": "stream",
     "text": [
      "First non-zero cases is on day 37, and 30 days before 5 days is day 27\n",
      "Umbria has 50 days of death data\n",
      "Umbria has 43 days of mobility data\n"
     ]
    },
    {
     "name": "stderr",
     "output_type": "stream",
     "text": [
      "\r",
      "20it [00:21,  1.02s/it]"
     ]
    },
    {
     "name": "stdout",
     "output_type": "stream",
     "text": [
      "First non-zero cases is on day 31, and 30 days before 5 days is day 11\n",
      "Veneto has 66 days of death data\n",
      "Veneto has 59 days of mobility data\n"
     ]
    },
    {
     "name": "stderr",
     "output_type": "stream",
     "text": [
      "21it [00:22,  1.08s/it]\n"
     ]
    }
   ],
   "source": [
    "# to make this work with test data, just change line 136 from \n",
    "        #for county_num, county in tqdm(enumerate(self.counties)):\n",
    "#to         for county_num, county in tqdm(enumerate(self.counties[:1])):\n",
    "stan_data = dataset.get_stan_data(75)"
   ]
  },
  {
   "cell_type": "code",
   "execution_count": 56,
   "metadata": {
    "scrolled": false
   },
   "outputs": [
    {
     "data": {
      "text/plain": [
       "{'M': 21,\n",
       " 'p1': 6,\n",
       " 'p2': 5,\n",
       " 'N0': 6,\n",
       " 'N2': 75,\n",
       " 'SI': 0     1.832618e-02\n",
       " 1     6.659231e-02\n",
       " 2     1.019139e-01\n",
       " 3     1.177168e-01\n",
       " 4     1.183856e-01\n",
       "           ...     \n",
       " 70    2.925304e-11\n",
       " 71    2.000644e-11\n",
       " 72    1.367839e-11\n",
       " 73    9.348966e-12\n",
       " 74    6.388001e-12\n",
       " Name: fit, Length: 75, dtype: float64,\n",
       " 'EpidemicStart': [31,\n",
       "  31,\n",
       "  31,\n",
       "  31,\n",
       "  31,\n",
       "  31,\n",
       "  31,\n",
       "  31,\n",
       "  31,\n",
       "  31,\n",
       "  31,\n",
       "  31,\n",
       "  31,\n",
       "  31,\n",
       "  31,\n",
       "  31,\n",
       "  31,\n",
       "  31,\n",
       "  31,\n",
       "  31,\n",
       "  31],\n",
       " 'N': [52,\n",
       "  48,\n",
       "  56,\n",
       "  38,\n",
       "  52,\n",
       "  47,\n",
       "  52,\n",
       "  69,\n",
       "  58,\n",
       "  58,\n",
       "  59,\n",
       "  73,\n",
       "  62,\n",
       "  39,\n",
       "  62,\n",
       "  48,\n",
       "  48,\n",
       "  52,\n",
       "  55,\n",
       "  50,\n",
       "  66],\n",
       " 'intervention1': array([[0., 0., 0., ..., 0., 0., 0.],\n",
       "        [0., 0., 0., ..., 0., 0., 0.],\n",
       "        [0., 0., 0., ..., 0., 0., 0.],\n",
       "        ...,\n",
       "        [1., 1., 1., ..., 1., 1., 1.],\n",
       "        [1., 1., 1., ..., 1., 1., 1.],\n",
       "        [1., 1., 1., ..., 1., 1., 1.]]),\n",
       " 'intervention2': array([[0., 0., 0., ..., 0., 0., 0.],\n",
       "        [0., 0., 0., ..., 0., 0., 0.],\n",
       "        [0., 0., 0., ..., 0., 0., 0.],\n",
       "        ...,\n",
       "        [1., 1., 1., ..., 1., 1., 1.],\n",
       "        [1., 1., 1., ..., 1., 1., 1.],\n",
       "        [1., 1., 1., ..., 1., 1., 1.]]),\n",
       " 'intervention3': array([[0., 0., 0., ..., 0., 0., 0.],\n",
       "        [0., 0., 0., ..., 0., 0., 0.],\n",
       "        [0., 0., 0., ..., 0., 0., 0.],\n",
       "        ...,\n",
       "        [1., 1., 1., ..., 1., 1., 1.],\n",
       "        [1., 1., 1., ..., 1., 1., 1.],\n",
       "        [1., 1., 1., ..., 1., 1., 1.]]),\n",
       " 'intervention4': array([[0., 0., 0., ..., 0., 0., 0.],\n",
       "        [0., 0., 0., ..., 0., 0., 0.],\n",
       "        [0., 0., 0., ..., 0., 0., 0.],\n",
       "        ...,\n",
       "        [1., 1., 1., ..., 1., 1., 1.],\n",
       "        [1., 1., 1., ..., 1., 1., 1.],\n",
       "        [1., 1., 1., ..., 1., 1., 1.]]),\n",
       " 'intervention5': array([[0., 0., 0., ..., 0., 0., 0.],\n",
       "        [0., 0., 0., ..., 0., 0., 0.],\n",
       "        [0., 0., 0., ..., 0., 0., 0.],\n",
       "        ...,\n",
       "        [1., 1., 1., ..., 1., 1., 1.],\n",
       "        [1., 1., 1., ..., 1., 1., 1.],\n",
       "        [1., 1., 1., ..., 1., 1., 1.]]),\n",
       " 'intervention6': array([[0., 0., 0., ..., 0., 0., 0.],\n",
       "        [0., 0., 0., ..., 0., 0., 0.],\n",
       "        [0., 0., 0., ..., 0., 0., 0.],\n",
       "        ...,\n",
       "        [1., 1., 1., ..., 1., 1., 1.],\n",
       "        [1., 1., 1., ..., 1., 1., 1.],\n",
       "        [1., 1., 1., ..., 1., 1., 1.]]),\n",
       " 'x1': array([[ 22.41      ,  34.722     ,   0.        , ...,   0.        ,\n",
       "          14.916     ,   0.        ],\n",
       "        [-12.165     ,  45.003     ,   0.        , ...,  31.667     ,\n",
       "          18.877     ,   0.        ],\n",
       "        [ -2.945     ,  64.151     ,  75.867     , ...,   9.314     ,\n",
       "          58.732     ,   0.        ],\n",
       "        ...,\n",
       "        [-86.87066667, -79.97266667, -85.393     , ..., -86.64933333,\n",
       "         -78.204     , -83.98266667],\n",
       "        [-86.87066667, -79.97266667, -85.393     , ..., -86.64933333,\n",
       "         -78.204     , -83.98266667],\n",
       "        [-86.87066667, -79.97266667, -85.393     , ..., -86.64933333,\n",
       "         -78.204     , -83.98266667]]),\n",
       " 'x2': array([[-0.896     , -0.709     ,  0.        , ...,  0.        ,\n",
       "         -0.533     ,  0.        ],\n",
       "        [-0.1       , -0.053     ,  0.        , ..., -1.702     ,\n",
       "         -1.664     ,  0.        ],\n",
       "        [-0.361     ,  4.057     , -1.476     , ..., -0.383     ,\n",
       "         -1.562     ,  0.        ],\n",
       "        ...,\n",
       "        [33.95833333, 33.27966667, 30.75833333, ..., 35.258     ,\n",
       "         34.50433333, 34.46533333],\n",
       "        [33.95833333, 33.27966667, 30.75833333, ..., 35.258     ,\n",
       "         34.50433333, 34.46533333],\n",
       "        [33.95833333, 33.27966667, 30.75833333, ..., 35.258     ,\n",
       "         34.50433333, 34.46533333]]),\n",
       " 'x3': array([[  0.711     ,   9.107     ,   0.        , ...,   0.        ,\n",
       "           1.874     ,   0.        ],\n",
       "        [ -3.886     ,  19.141     ,   0.        , ...,   4.684     ,\n",
       "           2.35      ,   0.        ],\n",
       "        [  0.952     ,  34.979     ,   3.081     , ...,   1.293     ,\n",
       "           2.093     ,   0.        ],\n",
       "        ...,\n",
       "        [-85.96333333, -90.515     , -83.07533333, ..., -85.023     ,\n",
       "         -85.36      , -85.353     ],\n",
       "        [-85.96333333, -90.515     , -83.07533333, ..., -85.023     ,\n",
       "         -85.36      , -85.353     ],\n",
       "        [-85.96333333, -90.515     , -83.07533333, ..., -85.023     ,\n",
       "         -85.36      , -85.353     ]]),\n",
       " 'x4': array([[  5.702     ,  24.957     ,   0.        , ...,   0.        ,\n",
       "           4.324     ,   0.        ],\n",
       "        [  0.867     ,  37.99      ,   0.        , ...,  11.752     ,\n",
       "           8.626     ,   0.        ],\n",
       "        [  4.909     ,  19.96      ,  12.121     , ...,   3.167     ,\n",
       "          17.135     ,   0.        ],\n",
       "        ...,\n",
       "        [-86.14033333, -82.05366667, -86.00166667, ..., -81.84233333,\n",
       "         -76.571     , -83.71866667],\n",
       "        [-86.14033333, -82.05366667, -86.00166667, ..., -81.84233333,\n",
       "         -76.571     , -83.71866667],\n",
       "        [-86.14033333, -82.05366667, -86.00166667, ..., -81.84233333,\n",
       "         -76.571     , -83.71866667]]),\n",
       " 'x5': array([[  1.706     ,   1.612     ,   0.        , ...,   0.        ,\n",
       "           0.119     ,   0.        ],\n",
       "        [  1.184     ,   1.877     ,   0.        , ...,   1.369     ,\n",
       "           0.893     ,   0.        ],\n",
       "        [  1.006     , -18.352     ,  -1.123     , ...,   1.399     ,\n",
       "           1.345     ,   0.        ],\n",
       "        ...,\n",
       "        [-73.911     , -71.67833333, -70.03966667, ..., -70.35566667,\n",
       "         -68.765     , -67.04166667],\n",
       "        [-73.911     , -71.67833333, -70.03966667, ..., -70.35566667,\n",
       "         -68.765     , -67.04166667],\n",
       "        [-73.911     , -71.67833333, -70.03966667, ..., -70.35566667,\n",
       "         -68.765     , -67.04166667]]),\n",
       " 'deaths': array([[ 0,  0,  0, ...,  0,  0,  0],\n",
       "        [ 0,  0,  0, ...,  0,  0,  0],\n",
       "        [ 0,  0,  0, ...,  0,  0,  0],\n",
       "        ...,\n",
       "        [-1, -1, -1, ..., -1, -1, -1],\n",
       "        [-1, -1, -1, ..., -1, -1, -1],\n",
       "        [-1, -1, -1, ..., -1, -1, -1]]),\n",
       " 'cases': array([[0, 0, 0, ..., 0, 0, 0],\n",
       "        [0, 0, 0, ..., 0, 0, 0],\n",
       "        [0, 0, 0, ..., 0, 0, 0],\n",
       "        ...,\n",
       "        [0, 0, 0, ..., 0, 0, 0],\n",
       "        [0, 0, 0, ..., 0, 0, 0],\n",
       "        [0, 0, 0, ..., 0, 0, 0]]),\n",
       " 'f': array([[1.58256000e-08, 1.93424000e-08, 1.93424000e-08, ...,\n",
       "         1.40672000e-08, 1.75840000e-08, 1.05504000e-08],\n",
       "        [1.58255997e-08, 1.93423996e-08, 1.93423996e-08, ...,\n",
       "         1.40671998e-08, 1.75839997e-08, 1.05503999e-08],\n",
       "        [3.07719995e-07, 2.84860794e-07, 2.88377594e-07, ...,\n",
       "         2.47934397e-07, 2.95411195e-07, 2.84860797e-07],\n",
       "        ...,\n",
       "        [3.99156794e-07, 3.62230393e-07, 3.76297593e-07, ...,\n",
       "         4.04431994e-07, 4.16740793e-07, 4.00915196e-07],\n",
       "        [3.42887995e-07, 3.60471993e-07, 3.12995194e-07, ...,\n",
       "         3.30579195e-07, 3.16511994e-07, 2.83102397e-07],\n",
       "        [2.54967996e-07, 2.56726395e-07, 2.42659195e-07, ...,\n",
       "         2.63759996e-07, 2.90135995e-07, 2.67276797e-07]])}"
      ]
     },
     "execution_count": 56,
     "metadata": {},
     "output_type": "execute_result"
    }
   ],
   "source": [
    "stan_data"
   ]
  },
  {
   "cell_type": "code",
   "execution_count": null,
   "metadata": {},
   "outputs": [],
   "source": []
  },
  {
   "cell_type": "code",
   "execution_count": null,
   "metadata": {},
   "outputs": [],
   "source": []
  },
  {
   "cell_type": "code",
   "execution_count": null,
   "metadata": {},
   "outputs": [],
   "source": []
  },
  {
   "cell_type": "code",
   "execution_count": null,
   "metadata": {},
   "outputs": [],
   "source": []
  },
  {
   "cell_type": "code",
   "execution_count": null,
   "metadata": {},
   "outputs": [],
   "source": []
  }
 ],
 "metadata": {
  "kernelspec": {
   "display_name": "covid19model",
   "language": "python",
   "name": "covid19model"
  },
  "language_info": {
   "codemirror_mode": {
    "name": "ipython",
    "version": 3
   },
   "file_extension": ".py",
   "mimetype": "text/x-python",
   "name": "python",
   "nbconvert_exporter": "python",
   "pygments_lexer": "ipython3",
   "version": "3.7.7"
  }
 },
 "nbformat": 4,
 "nbformat_minor": 4
}
